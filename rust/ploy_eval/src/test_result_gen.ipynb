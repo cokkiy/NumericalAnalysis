{
 "cells": [
  {
   "cell_type": "code",
   "execution_count": null,
   "metadata": {},
   "outputs": [],
   "source": [
    "for x in [        3.0, 4.0, 5.0, 6.0, 7.0, 8., 9.0, 10.0, 11.0, 12., 13.0, 14.0, 15.0, 16.0, 17.0, 18., ]:\n",
    "    y=1.0+(x-3.0)*(2.0+(x-4.0)*(3.0+4.0*(x-5.0)))\n",
    "    print(y)"
   ]
  },
  {
   "cell_type": "code",
   "execution_count": null,
   "metadata": {},
   "outputs": [],
   "source": [
    "for x in [3.0, 4.0, 5.0, 6.0, 7.0, 8., 9.0, 10.0, 11.0, 12., 13.0, 14.0, 15.0, 16.0, 17.0, 18., ]:\n",
    "    y=1.0+(x-3.0)*(2.0+(x)*(3.0+5.0*(x)))\n",
    "    print(\"{y},\".format(y=y))"
   ]
  },
  {
   "cell_type": "code",
   "execution_count": null,
   "metadata": {},
   "outputs": [],
   "source": [
    "for x in [1.0,2.0,3.0,4.0,5.0,6.0,7.0,8.0]:\n",
    "    y=1.0+x*(2.0)\n",
    "    print(\"{y},\".format(y=y))"
   ]
  },
  {
   "cell_type": "code",
   "execution_count": null,
   "metadata": {},
   "outputs": [],
   "source": [
    "for x in [1.0,2.0,3.0,4.0,5.0,6.0,7.0,8.0]:\n",
    "    y=1.0+x*(2.0)+x*x*3.0\n",
    "    print(\"{y},\".format(y=y))"
   ]
  },
  {
   "cell_type": "code",
   "execution_count": null,
   "metadata": {},
   "outputs": [],
   "source": [
    "for x in [3.0, 4.0, 5.0, 6.0, 7.0, 8.0, 9.0, 10.0, 11., 12., 13., 14., 15.0, 16.0, 17.0, 20.0,]:\n",
    "    y=1.0+2.0*x+3.0*x*x+4.0*x*x*x+5.0*x*x*x*x\n",
    "    print(\"{y},\".format(y=y))"
   ]
  },
  {
   "cell_type": "code",
   "execution_count": null,
   "metadata": {},
   "outputs": [],
   "source": [
    "for x in [1.0,2.0,3.0, 4.0, 5.0, 6.0, 7.0, 8.0, 9.0, 10.0, 11., 12., 13., 14., 15.0, 16.0]:\n",
    "    y=1.0+(x-3.0)*(2.0+(x-4.0)*(3.0+(x-5.0)*(4+5.0*x)))\n",
    "    print(\"{y},\".format(y=y))"
   ]
  },
  {
   "cell_type": "code",
   "execution_count": 6,
   "metadata": {},
   "outputs": [
    {
     "name": "stdout",
     "output_type": "stream",
     "text": [
      "1.0,\n",
      "3.0,\n",
      "11.0,\n",
      "49.0,\n",
      "261.0,\n",
      "911.0,\n",
      "2383.0,\n",
      "5181.0,\n",
      "9929.0,\n",
      "17371.0,\n",
      "28371.0,\n",
      "43913.0,\n",
      "65101.0,\n",
      "93159.0,\n",
      "129431.0,\n",
      "175381.0,\n"
     ]
    }
   ],
   "source": [
    "for x in [3.0, 4.0, 5.0, 6.0, 7.0, 8.0, 9.0, 10.0, 11., 12., 13., 14., 15.0, 16.0,17.0,18.0]:\n",
    "    y=1.0+(x-3.0)*(2.0+(x-4.0)*(3.0+(x-5.0)*(4+5.0*(x-6.0))))\n",
    "    print(\"{y},\".format(y=y))"
   ]
  }
 ],
 "metadata": {
  "kernelspec": {
   "display_name": "myenv",
   "language": "python",
   "name": "python3"
  },
  "language_info": {
   "codemirror_mode": {
    "name": "ipython",
    "version": 3
   },
   "file_extension": ".py",
   "mimetype": "text/x-python",
   "name": "python",
   "nbconvert_exporter": "python",
   "pygments_lexer": "ipython3",
   "version": "3.11.6"
  }
 },
 "nbformat": 4,
 "nbformat_minor": 2
}
